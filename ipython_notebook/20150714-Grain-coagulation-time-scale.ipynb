{
 "metadata": {
  "name": "",
  "signature": "sha256:c60055ad81b770a86ed373851363f271ec2b7da164cd208c4baf5601ca6aa770"
 },
 "nbformat": 3,
 "nbformat_minor": 0,
 "worksheets": [
  {
   "cells": [
    {
     "cell_type": "markdown",
     "metadata": {},
     "source": [
      "#0. Coagulation timescale for small dust grains\n",
      "\n",
      "Here I use the second term in the right hand side of equation (5) in Dullemond & Dominik (2005).  Namely\n",
      "$$\\partial_t f(m) = \\cdots - f(m) \\int_0^\\infty f(m')\\sigma_{c}(m',m) \\Delta v(m',m) dm',$$\n",
      "which gives the timescale of coagulation growth.\n",
      "\n",
      "For simplicity, we let\n",
      "$$\\sigma_{c}(m',m) = \\pi(a'+a)^2.$$\n",
      "Since we are mainly concerned with the small grains being \"eaten\" by big grains, approximately\n",
      "$$\\sigma_{c}(m',m) = \\pi a'^2.$$\n",
      "\n",
      "For the relative velocity $\\Delta v(m',m)$, there are three different processes contributing to it:\n",
      "1. Brownian motion\n",
      "    $$\\Delta v(m_1, m_2) = \\left(\\frac{8kT(m_1+m_2)}{\\pi m_1 m_2}\\right)^{1/2}.$$\n",
      "2. Differential settling\n",
      "    $$\\Delta v(m_1, m_2) = \\left|v_{sett}(m_1) - v_{sett}(m_2)\\right|,$$\n",
      "    where\n",
      "    $$v_{sett}(m) = \\frac{3\\Omega_K^2 z}{4\\rho_{gas} c_s} \\frac{m}{\\sigma_g} = \\frac{\\Omega_K^2 z}{\\rho_{gas} c_s} \\frac{\\rho_{d}}{\\rho_{gas}} a.$$\n",
      "3. Turbulence-driven coagulation"
     ]
    },
    {
     "cell_type": "markdown",
     "metadata": {},
     "source": [
      "#1. Coagulation through Brownian motion\n",
      "\n",
      "For a dust grain with size $a$, the following formula shows the time scale for it to be \"eaten\" by a dust grain with size larger than $a$\n",
      "$$\\tau_{coag, Brown}^{-1} = A \\pi \\left(\\frac{8kT}{\\pi\\rho_d}\\right)^{1/2} \\frac{1}{a^{3/2}} \\left[a^{3-\\beta}_{max} - a^{3-\\beta}_{min}\\right] \\frac{1}{3-\\beta}.$$\n",
      "\n",
      "Here $A$ is defined such that\n",
      "$$\\int_{a_{min}}^{a_{max}} A a^{-\\beta} da = n_{tot},$$\n",
      "where $n_{tot}$ is the total number density of dust grains.\n",
      "\n",
      "For $\\beta = 3.5$, the result can be approximately simplified into\n",
      "$$\\tau_{coag, Brown}^{-1} = 5\\pi \\cdot n_{tot} \\cdot \\left(\\frac{a_{min}}{a}\\right)^2 \\cdot a_{min}^{1/2} \\cdot \\left(\\frac{8kT}{\\pi \\rho_d}\\right)^{1/2}.$$"
     ]
    },
    {
     "cell_type": "code",
     "collapsed": false,
     "input": [
      "def tau_coag_Brown(a, a_min, n_tot, T, rho_d):\n",
      "    import numpy as np\n",
      "    k = 1.38e-23\n",
      "    t_1 = 5.0 * np.pi * n_tot * (a_min/a)**2 * np.sqrt(a_min * 8.0 * k * T / np.pi / rho_d)\n",
      "    return 1.0/t_1"
     ],
     "language": "python",
     "metadata": {},
     "outputs": [],
     "prompt_number": 3
    },
    {
     "cell_type": "code",
     "collapsed": false,
     "input": [
      "tau_coag_Brown(1e-6, 5e-8, 1e9*1e6*2e-12, 30.0, 2.0e3) / 3.15e7"
     ],
     "language": "python",
     "metadata": {},
     "outputs": [
      {
       "metadata": {},
       "output_type": "pyout",
       "prompt_number": 7,
       "text": [
        "2489770.5911230776"
       ]
      }
     ],
     "prompt_number": 7
    },
    {
     "cell_type": "markdown",
     "metadata": {},
     "source": [
      "#2. Coagulation through differential settling\n",
      "\n",
      "In this case\n",
      "$$\\tau_{coag, sett}^{-1} = 5\\pi \\cdot n_{tot} \\cdot \\frac{\\Omega_K^2 z}{c_s} \\frac{\\rho_{d}}{\\rho_{gas}} a_{min}^{2.5}a_{max}^{0.5}.$$"
     ]
    },
    {
     "cell_type": "code",
     "collapsed": false,
     "input": [
      "def tau_coag_Brown(a, a_min, a_max, n_tot, T, rho_d, rho_g, M_msun, r_AU, z_AU):\n",
      "    import numpy as np\n",
      "    k = 1.38e-23\n",
      "    G = 6.67e-11\n",
      "    msun = 2e30\n",
      "    AU = 1.5e11\n",
      "    m_p = 1.67e-27\n",
      "    mu_gas = 2.8\n",
      "    c_s = np.sqrt(k*T/(m_p * mu_gas))\n",
      "    Omega_K_2 = G * M_msun * msun /(r_AU * AU)**3\n",
      "    t_1 = 5.0 * np.pi * n_tot * Omega_K_2 * (z_AU * AU) / c_s * (rho_d/rho_g) * np.sqrt(a_min**5 * a_max)\n",
      "    return 1.0/t_1"
     ],
     "language": "python",
     "metadata": {},
     "outputs": [],
     "prompt_number": 10
    },
    {
     "cell_type": "code",
     "collapsed": false,
     "input": [
      "a = 1e-6\n",
      "a_min = 5e-8\n",
      "a_max = 1e-3\n",
      "n_g_CGS = 1e9\n",
      "n_tot = n_g_CGS * 1e6 * 2e-12\n",
      "T = 30.0\n",
      "rho_d = 2.0e3\n",
      "rho_g = n_g_CGS *1e6 * 1.67e-27 * 2.8\n",
      "M_msun = 1.0\n",
      "r_AU = 10.0\n",
      "z_AU = 1.0\n",
      "print tau_coag_Brown(a, a_min, a_max, n_tot, T, rho_d, rho_g, M_msun, r_AU, z_AU) / 3.15e7"
     ],
     "language": "python",
     "metadata": {},
     "outputs": [
      {
       "output_type": "stream",
       "stream": "stdout",
       "text": [
        "6.70731460578\n"
       ]
      }
     ],
     "prompt_number": 20
    },
    {
     "cell_type": "code",
     "collapsed": false,
     "input": [],
     "language": "python",
     "metadata": {},
     "outputs": []
    }
   ],
   "metadata": {}
  }
 ]
}