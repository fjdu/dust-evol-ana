{
 "metadata": {
  "name": "",
  "signature": "sha256:5317133766f685414cc26c76e48526e7810ffdde5994ee6442a2b310eaecf5ad"
 },
 "nbformat": 3,
 "nbformat_minor": 0,
 "worksheets": []
}