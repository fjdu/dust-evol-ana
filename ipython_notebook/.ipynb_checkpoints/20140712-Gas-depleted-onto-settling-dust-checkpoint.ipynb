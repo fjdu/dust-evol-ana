{
 "metadata": {
  "name": "",
  "signature": "sha256:58f1387360e7906ca975ca12ed0a8791333a1b4fbeff32e31e1bb4d4b6859dfe"
 },
 "nbformat": 3,
 "nbformat_minor": 0,
 "worksheets": [
  {
   "cells": [
    {
     "cell_type": "code",
     "collapsed": false,
     "input": [
      "%pylab inline\n",
      "import os\n",
      "\n",
      "rc('font',**{'family':'serif',\n",
      "             'serif':['Palatino']})\n",
      "rc('text', **{'usetex': True})"
     ],
     "language": "python",
     "metadata": {},
     "outputs": [
      {
       "output_type": "stream",
       "stream": "stdout",
       "text": [
        "Populating the interactive namespace from numpy and matplotlib\n"
       ]
      }
     ],
     "prompt_number": 1
    },
    {
     "cell_type": "code",
     "collapsed": false,
     "input": [
      "execfile(\"/Users/fdu/Dropbox/myScripts/my_script.py\")\n",
      "execfile(\"/Users/fdu/Dropbox/myScripts/long_function_definitions.py\")\n",
      "mycm = make_my_colormap(c_list=[(0.0, (0.5, 0.0, 0.5)),\n",
      "                                (0.2, (0.0, 0.0, 1.0)),\n",
      "                                (0.4, (0.0, 0.8, 1.0)),\n",
      "                                (0.6, (0.0, 0.8, 0.0)),\n",
      "                                (0.8, (1.0, 0.8, 0.0)),\n",
      "                                (1.0, (1.0, 0.0, 0.0))])\n",
      "#savefig_dir = '/Users/fdu/Dropbox/work/myPapers/untitled_20140326/figures/'\n",
      "#rcParams['axes.color_cycle'] = mycolors\n",
      "#print mycolors"
     ],
     "language": "python",
     "metadata": {},
     "outputs": [],
     "prompt_number": 2
    },
    {
     "cell_type": "markdown",
     "metadata": {},
     "source": [
      "**We stick to SI units unless otherwised stated.**"
     ]
    },
    {
     "cell_type": "code",
     "collapsed": false,
     "input": [
      "def calc_f_drag(lam, s, rho, v, v_thermal, C_D):\n",
      "    \"\"\"\n",
      "    lam: mean free path of the gas molecules\n",
      "    s: radius of the solid particle\n",
      "    rho: gas mas density\n",
      "    v: velocity of the solid particle\n",
      "    v_thermal: thermal velocity of the gas molecules\n",
      "    C_D: drag coefficient\n",
      "    Ref: Weidenschilling 1977\n",
      "    \"\"\"\n",
      "    return where(9*lam < 4*s,\n",
      "                 C_D * pi * s**2 * rho * v**2 * 0.5,\n",
      "                 4.0*pi/3.0 * s**2 * rho * v * v_thermal) # Epstein\n",
      "\n",
      "def calc_C_D(Re):\n",
      "    \"\"\"\n",
      "    Return the dimensionless drag coefficient\n",
      "    Re: Reynolds number\n",
      "    \"\"\"\n",
      "    return where(Re < 1.0,\n",
      "                 24.0 / Re, # Stokes' law\n",
      "                 where(Re < 800.0,\n",
      "                       24.0 * pow(Re, -0.6),\n",
      "                       0.4348677982066174))\n",
      "\n",
      "def calc_Reynolds(s, rho, v, eta):\n",
      "    \"\"\"\n",
      "    Return the Reynolds number\n",
      "    \"\"\"\n",
      "    return 2.0 * s * rho * v / eta\n",
      "\n",
      "def calc_mean_free_path(eta, rho, v_thermal):\n",
      "    \"\"\"\n",
      "    Return the mean free path\n",
      "    Ref: http://en.wikipedia.org/wiki/Viscosity#Relation_to_mean_free_path_of_diffusing_particles\n",
      "    \"\"\"\n",
      "    return 2.0 * eta / (rho * v_thermal)\n",
      "\n",
      "def calc_v_thermal(m, T):\n",
      "    k = 1.3806503e-23\n",
      "    return sqrt(8.0/pi * k * T / m)\n",
      "\n",
      "def calc_f_gravity_z(M, r, z):\n",
      "    G = 6.67428e-11\n",
      "    return -G * M * z / r**3\n",
      "\n",
      "def calc_eta_vicosity(T):\n",
      "    \"\"\"\n",
      "    Ref: http://www.astronomy.ohio-state.edu/~ryden/ast825/ch2-3.pdf\n",
      "    \"\"\"\n",
      "    return 2e-5\n",
      "\n",
      "def calc_eom(r, z, v, s, m_dust, m_gas, T_gas, rho_gas, M):\n",
      "    '''\n",
      "    Equation of motion\n",
      "    d/dt v = calc_eom()\n",
      "    '''\n",
      "\n",
      "    eta = calc_eta_vicosity(T_gas)\n",
      "    \n",
      "    v_thermal = calc_v_thermal(m_gas, T_gas)\n",
      "    \n",
      "    lam = calc_mean_free_path(eta, rho_gas, v_thermal)\n",
      "    \n",
      "    Re = calc_Reynolds(s, rho_gas, v, eta)\n",
      "    \n",
      "    C_D = calc_C_D(Re)\n",
      "    \n",
      "    f_g = calc_f_gravity_z(M, r, z)\n",
      "    f_f = -sign(v) * calc_f_drag(lam, s, rho_gas, v, v_thermal, C_D) / m_dust\n",
      "    \n",
      "    return f_g + f_f"
     ],
     "language": "python",
     "metadata": {},
     "outputs": [],
     "prompt_number": 29
    },
    {
     "cell_type": "code",
     "collapsed": false,
     "input": [
      "import scipy.constants as const"
     ],
     "language": "python",
     "metadata": {},
     "outputs": [],
     "prompt_number": 30
    },
    {
     "cell_type": "code",
     "collapsed": true,
     "input": [],
     "language": "python",
     "metadata": {},
     "outputs": []
    },
    {
     "cell_type": "code",
     "collapsed": false,
     "input": [
      "AU = 1.49597871e11\n",
      "micron = 1.0e-6\n",
      "rho_dust = 3.0e3 # kg m-3\n",
      "\n",
      "\n",
      "r = 10.0 * AU\n",
      "z = 1.0 * AU\n",
      "v = 1.0\n",
      "s = 0.1 * micron\n",
      "m_dust = rho_dust * (4.0*pi/3.0*s**3)\n",
      "m_gas = 2.0 * m_proton"
     ],
     "language": "python",
     "metadata": {},
     "outputs": [
      {
       "metadata": {},
       "output_type": "pyout",
       "prompt_number": 28,
       "text": [
        "-1.0"
       ]
      }
     ],
     "prompt_number": 28
    },
    {
     "cell_type": "code",
     "collapsed": false,
     "input": [
      "Re = logspace(-2,4)\n",
      "C = C_D(Re)\n",
      "fsize = (8,4)\n",
      "figure(figsize=fsize)\n",
      "plot(Re, C)\n",
      "ax = gca()\n",
      "ax.set_xscale('log')\n",
      "ax.set_yscale('log')\n",
      "set_axis_format(ax, graygrid=True)"
     ],
     "language": "python",
     "metadata": {},
     "outputs": [
      {
       "metadata": {},
       "output_type": "display_data",
       "png": "[encoded data removed]",
       "text": [
        "<matplotlib.figure.Figure at 0x106042210>"
       ]
      }
     ],
     "prompt_number": 13
    },
    {
     "cell_type": "code",
     "collapsed": false,
     "input": [],
     "language": "python",
     "metadata": {},
     "outputs": []
    }
   ],
   "metadata": {}
  }
 ]
}